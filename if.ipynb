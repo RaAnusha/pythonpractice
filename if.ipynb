{
 "cells": [
  {
   "cell_type": "code",
   "execution_count": 1,
   "id": "7e0021dd",
   "metadata": {},
   "outputs": [
    {
     "name": "stdout",
     "output_type": "stream",
     "text": [
      "enter a number2\n",
      "enter a number3\n",
      "enter a operator if press 1 addition, press 2 substraction,press 3 multiplication and  4 for division3\n",
      "multiplication of two numberes are 6\n"
     ]
    }
   ],
   "source": [
    "a=input(\"enter a number\")\n",
    "b=input(\"enter a number\")\n",
    "c=input(\"enter a operator if press 1 addition, press 2 substraction,press 3 multiplication and  4 for division\")\n",
    "a= int(a)\n",
    "b = int(b)\n",
    "c = int(c)\n",
    "if(c == 1):\n",
    "    d=a+b\n",
    "    print(\"addition of two numberes are\",d)\n",
    "elif(c == 2):\n",
    "    d=a-b\n",
    "    print(\"substraction of two numberes are\",d)\n",
    "elif(c == 3):\n",
    "    d=a*b\n",
    "    print(\"multiplication of two numberes are\",d)\n",
    "elif(c == 4):\n",
    "    d=a/b\n",
    "    print(\"division of two numberes are\",d)\n",
    "    \n",
    "    "
   ]
  },
  {
   "cell_type": "code",
   "execution_count": null,
   "id": "12ba551f",
   "metadata": {},
   "outputs": [],
   "source": []
  }
 ],
 "metadata": {
  "kernelspec": {
   "display_name": "Python 3",
   "language": "python",
   "name": "python3"
  },
  "language_info": {
   "codemirror_mode": {
    "name": "ipython",
    "version": 3
   },
   "file_extension": ".py",
   "mimetype": "text/x-python",
   "name": "python",
   "nbconvert_exporter": "python",
   "pygments_lexer": "ipython3",
   "version": "3.8.8"
  }
 },
 "nbformat": 4,
 "nbformat_minor": 5
}
