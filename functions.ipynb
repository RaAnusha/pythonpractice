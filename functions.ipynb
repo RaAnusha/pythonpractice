{
 "cells": [
  {
   "cell_type": "markdown",
   "id": "67e22231",
   "metadata": {},
   "source": [
    "Explain Return keyword with example.\n",
    "The return keyword is to exit a function and return a value.\n",
    "\n",
    "Statements after the return line will not be executed:\n"
   ]
  },
  {
   "cell_type": "code",
   "execution_count": 2,
   "id": "45ea3b26",
   "metadata": {},
   "outputs": [
    {
     "data": {
      "text/plain": [
       "6"
      ]
     },
     "execution_count": 2,
     "metadata": {},
     "output_type": "execute_result"
    }
   ],
   "source": [
    "def myfunc():\n",
    "  return 3+3\n",
    "  print(\"Hello, World!\")  #statements after return will not be executed\n",
    "    \n",
    "myfunc()"
   ]
  },
  {
   "cell_type": "code",
   "execution_count": 5,
   "id": "530c445b",
   "metadata": {},
   "outputs": [
    {
     "name": "stdout",
     "output_type": "stream",
     "text": [
      "enter a number6\n",
      "enter a number3\n",
      "enter a operator if press 1 addition, press 2 substraction,press 3 multiplication and  4 for division3\n",
      "multiplication of two numberes are 18\n"
     ]
    }
   ],
   "source": [
    "a=input(\"enter a number\")\n",
    "b=input(\"enter a number\")\n",
    "c=input(\"enter a operator if press 1 addition, press 2 substraction,press 3 multiplication and  4 for division\")\n",
    "a= int(a)\n",
    "b = int(b)\n",
    "c = int(c)\n",
    "def add(a,b):\n",
    "    d= a + b\n",
    "    print(\"addition of two numberes are\",d)\n",
    "def sub(a,b):\n",
    "    d= a - b\n",
    "    print(\"substraction of two numberes are\",d)\n",
    "def mul(a,b):\n",
    "    d= a * b\n",
    "    print(\"multiplication of two numberes are\",d)\n",
    "def div(a,b):\n",
    "    d= a / b\n",
    "    print(\"division of two numberes are\",d)\n",
    "if(c==1):\n",
    "    add(a,b)\n",
    "elif(c == 2):\n",
    "    sub(a,b)\n",
    "elif(c == 3):\n",
    "    mul(a,b)\n",
    "elif(c == 4):\n",
    "    div(a,b)\n",
    "    "
   ]
  },
  {
   "cell_type": "code",
   "execution_count": null,
   "id": "8a09aaa8",
   "metadata": {},
   "outputs": [],
   "source": []
  }
 ],
 "metadata": {
  "kernelspec": {
   "display_name": "Python 3",
   "language": "python",
   "name": "python3"
  },
  "language_info": {
   "codemirror_mode": {
    "name": "ipython",
    "version": 3
   },
   "file_extension": ".py",
   "mimetype": "text/x-python",
   "name": "python",
   "nbconvert_exporter": "python",
   "pygments_lexer": "ipython3",
   "version": "3.8.8"
  }
 },
 "nbformat": 4,
 "nbformat_minor": 5
}
