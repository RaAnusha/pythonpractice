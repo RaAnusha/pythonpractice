{
 "cells": [
  {
   "cell_type": "code",
   "execution_count": 2,
   "id": "a94a0c8e",
   "metadata": {},
   "outputs": [
    {
     "name": "stdout",
     "output_type": "stream",
     "text": [
      "Enter the string: welcome to python\n",
      "Enter the substring: to\n",
      "Substring is present\n"
     ]
    }
   ],
   "source": [
    "\n",
    "#\n",
    "str1 = input(\"Enter the string: \")\n",
    "substr1 = input(\"Enter the substring: \")\n",
    "res = str1.find(substr1)\n",
    "if(res >= 0):\n",
    "  print (\"Substring is present\")\n",
    "else:\n",
    "  print (\"Substring is not present\")"
   ]
  },
  {
   "cell_type": "code",
   "execution_count": 4,
   "id": "16f0f9f3",
   "metadata": {},
   "outputs": [
    {
     "name": "stdout",
     "output_type": "stream",
     "text": [
      "HELLO WORLD\n"
     ]
    }
   ],
   "source": [
    "a = 'hello world'\n",
    "print(a.upper())\n"
   ]
  },
  {
   "cell_type": "code",
   "execution_count": 7,
   "id": "5e9b5679",
   "metadata": {},
   "outputs": [
    {
     "name": "stdout",
     "output_type": "stream",
     "text": [
      "hello world\n"
     ]
    }
   ],
   "source": [
    "a = 'hello world'\n",
    "print(a.lower())\n"
   ]
  },
  {
   "cell_type": "code",
   "execution_count": 8,
   "id": "fad5f156",
   "metadata": {},
   "outputs": [
    {
     "name": "stdout",
     "output_type": "stream",
     "text": [
      "False\n"
     ]
    }
   ],
   "source": [
    "print(a.endswith('D'))\n"
   ]
  },
  {
   "cell_type": "code",
   "execution_count": null,
   "id": "e9f5da44",
   "metadata": {},
   "outputs": [],
   "source": []
  }
 ],
 "metadata": {
  "kernelspec": {
   "display_name": "Python 3",
   "language": "python",
   "name": "python3"
  },
  "language_info": {
   "codemirror_mode": {
    "name": "ipython",
    "version": 3
   },
   "file_extension": ".py",
   "mimetype": "text/x-python",
   "name": "python",
   "nbconvert_exporter": "python",
   "pygments_lexer": "ipython3",
   "version": "3.8.8"
  }
 },
 "nbformat": 4,
 "nbformat_minor": 5
}
